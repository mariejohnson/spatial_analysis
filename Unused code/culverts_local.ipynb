{
 "cells": [
  {
   "cell_type": "code",
   "execution_count": null,
   "metadata": {},
   "outputs": [
    {
     "name": "stdout",
     "output_type": "stream",
     "text": [
      "Populating the interactive namespace from numpy and matplotlib\n"
     ]
    }
   ],
   "source": [
    "%pylab inline\n",
    "import geopandas as gpd\n",
    "import pandas as pd\n",
    "import os\n",
    "import mplleaflet\n",
    "\n",
    "in_data_dir = '/Users/datateam/Desktop/SASAP/ADFG/'\n",
    "out_data_dir = '/Users/datateam/Desktop/SASAP/HabMetricsOut/'\n",
    "\n",
    "infp = lambda s: os.path.join(in_data_dir, s)\n",
    "outfp = lambda s: os.path.join(out_data_dir, s)"
   ]
  },
  {
   "cell_type": "markdown",
   "metadata": {},
   "source": [
    "# Regions"
   ]
  },
  {
   "cell_type": "markdown",
   "metadata": {},
   "source": [
    "Importing shapefiles for fish passage and regional data."
   ]
  },
  {
   "cell_type": "code",
   "execution_count": 3,
   "metadata": {},
   "outputs": [],
   "source": [
    "fish_pass = infp('ADFG_fish_passage.shp')\n",
    "fp = gpd.read_file(fish_pass)\n",
    "regs = infp('/Users/datateam/Desktop/SASAP/HUC8_rebuild/output/sasap_regions.shp')\n",
    "regions = gpd.read_file(regs)"
   ]
  },
  {
   "cell_type": "markdown",
   "metadata": {},
   "source": [
    "# Culverts\n",
    "\n",
    "I want to attribute regions with data on the impact of culverts on fish passage. \n",
    "\n",
    "I'll subset regions by the following data:\n",
    "* Number of culverts in each category: black = culvert status unknown, green = likely adquate, grey = possibly inadequate, red = likely indequate, red and grey = uncertainty of adequacy but likely inadequate"
   ]
  },
  {
   "cell_type": "markdown",
   "metadata": {},
   "source": [
    "Checking out fish passage data."
   ]
  },
  {
   "cell_type": "code",
   "execution_count": 4,
   "metadata": {
    "scrolled": false
   },
   "outputs": [
    {
     "name": "stdout",
     "output_type": "stream",
     "text": [
      "<class 'geopandas.geodataframe.GeoDataFrame'>\nRangeIndex: 2930 entries, 0 to 2929\nData columns (total 31 columns):\nOBJECTID      2930 non-null int64\nsite          2930 non-null object\nAWCStreamN    590 non-null object\nstreamName    2835 non-null object\nHUCCode       2820 non-null object\nwatershedN    225 non-null object\nroadName      2907 non-null object\ndecDegLat     2930 non-null float64\ndecDegLon     2930 non-null float64\nsurvey        2930 non-null object\nprojectCod    2930 non-null object\nsite1         2930 non-null object\nsurveyDate    2930 non-null float64\nsurveyTime    2930 non-null float64\nfailureMec    1966 non-null object\nfailureM_1    1335 non-null object\nfailureM_2    829 non-null object\nfailureM_3    433 non-null object\nfailureM_4    221 non-null object\nfailureM_5    88 non-null object\nRGGRating     2928 non-null object\ntidalInflu    2672 non-null object\nstepPools     1758 non-null object\nstreamStag    1722 non-null object\nbackWatere    2663 non-null object\navgUSOHWWi    2930 non-null float64\navgDSOHWWi    2930 non-null float64\nconstricti    2930 non-null float64\nconstructi    195 non-null object\nstreamSlop    2930 non-null float64\ngeometry      2930 non-null object\ndtypes: float64(8), int64(1), object(22)\nmemory usage: 709.7+ KB\n"
     ]
    }
   ],
   "source": [
    "fp.info()"
   ]
  },
  {
   "cell_type": "markdown",
   "metadata": {},
   "source": [
    "And checking out the region data. Regions are identified by the `region` attribute, so that'll be our key."
   ]
  },
  {
   "cell_type": "code",
   "execution_count": 5,
   "metadata": {
    "scrolled": true
   },
   "outputs": [
    {
     "data": {
      "text/html": [
       "<div>\n",
       "<style scoped>\n",
       "    .dataframe tbody tr th:only-of-type {\n",
       "        vertical-align: middle;\n",
       "    }\n",
       "\n",
       "    .dataframe tbody tr th {\n",
       "        vertical-align: top;\n",
       "    }\n",
       "\n",
       "    .dataframe thead th {\n",
       "        text-align: right;\n",
       "    }\n",
       "</style>\n",
       "<table border=\"1\" class=\"dataframe\">\n",
       "  <thead>\n",
       "    <tr style=\"text-align: right;\">\n",
       "      <th></th>\n",
       "      <th>region_id</th>\n",
       "      <th>region</th>\n",
       "      <th>geometry</th>\n",
       "    </tr>\n",
       "  </thead>\n",
       "  <tbody>\n",
       "    <tr>\n",
       "      <th>0</th>\n",
       "      <td>1</td>\n",
       "      <td>Aleutian Islands</td>\n",
       "      <td>(POLYGON ((-1156665.959195634 420855.093106978...</td>\n",
       "    </tr>\n",
       "    <tr>\n",
       "      <th>1</th>\n",
       "      <td>2</td>\n",
       "      <td>Arctic</td>\n",
       "      <td>POLYGON ((571289.9424044372 2143072.479559347,...</td>\n",
       "    </tr>\n",
       "    <tr>\n",
       "      <th>2</th>\n",
       "      <td>3</td>\n",
       "      <td>Bristol Bay</td>\n",
       "      <td>(POLYGON ((-339688.5870041371 973904.876117813...</td>\n",
       "    </tr>\n",
       "    <tr>\n",
       "      <th>3</th>\n",
       "      <td>4</td>\n",
       "      <td>Chignik</td>\n",
       "      <td>(POLYGON ((-114381.9018728056 649966.806579366...</td>\n",
       "    </tr>\n",
       "    <tr>\n",
       "      <th>4</th>\n",
       "      <td>5</td>\n",
       "      <td>Copper River</td>\n",
       "      <td>POLYGON ((561012.0068005103 1148300.750064243,...</td>\n",
       "    </tr>\n",
       "  </tbody>\n",
       "</table>\n",
       "</div>"
      ],
      "text/plain": [
       "<div>\n",
       "<style scoped>\n",
       "    .dataframe tbody tr th:only-of-type {\n",
       "        vertical-align: middle;\n",
       "    }\n",
       "\n",
       "    .dataframe tbody tr th {\n",
       "        vertical-align: top;\n",
       "    }\n",
       "\n",
       "    .dataframe thead th {\n",
       "        text-align: right;\n",
       "    }\n",
       "</style>\n",
       "<table border=\"1\" class=\"dataframe\">\n",
       "  <thead>\n",
       "    <tr style=\"text-align: right;\">\n",
       "      <th></th>\n",
       "      <th>region_id</th>\n",
       "      <th>region</th>\n",
       "      <th>geometry</th>\n",
       "    </tr>\n",
       "  </thead>\n",
       "  <tbody>\n",
       "    <tr>\n",
       "      <th>0</th>\n",
       "      <td>1</td>\n",
       "      <td>Aleutian Islands</td>\n",
       "      <td>(POLYGON ((-1156665.959195634 420855.093106978...</td>\n",
       "    </tr>\n",
       "    <tr>\n",
       "      <th>1</th>\n",
       "      <td>2</td>\n",
       "      <td>Arctic</td>\n",
       "      <td>POLYGON ((571289.9424044372 2143072.479559347,...</td>\n",
       "    </tr>\n",
       "    <tr>\n",
       "      <th>2</th>\n",
       "      <td>3</td>\n",
       "      <td>Bristol Bay</td>\n",
       "      <td>(POLYGON ((-339688.5870041371 973904.876117813...</td>\n",
       "    </tr>\n",
       "    <tr>\n",
       "      <th>3</th>\n",
       "      <td>4</td>\n",
       "      <td>Chignik</td>\n",
       "      <td>(POLYGON ((-114381.9018728056 649966.806579366...</td>\n",
       "    </tr>\n",
       "    <tr>\n",
       "      <th>4</th>\n",
       "      <td>5</td>\n",
       "      <td>Copper River</td>\n",
       "      <td>POLYGON ((561012.0068005103 1148300.750064243,...</td>\n",
       "    </tr>\n",
       "  </tbody>\n",
       "</table>\n",
       "</div>"
      ]
     },
     "execution_count": 5,
     "metadata": {},
     "output_type": "execute_result"
    }
   ],
   "source": [
    "regions.head()"
   ]
  },
  {
   "cell_type": "code",
   "execution_count": null,
   "metadata": {},
   "outputs": [],
   "source": [
    "fp.head(5)"
   ]
  },
  {
   "cell_type": "markdown",
   "metadata": {},
   "source": [
    "Before running any analysis, I'll make sure both `regions` and `fish passage` data are in the Alaska Albers projection ([epsg:3338](http://spatialreference.org/ref/epsg/3338/))."
   ]
  },
  {
   "cell_type": "code",
   "execution_count": 6,
   "metadata": {},
   "outputs": [],
   "source": [
    "fp = fp.to_crs(epsg=3338)\n",
    "regions = regions.to_crs(epsg=3338)"
   ]
  },
  {
   "cell_type": "markdown",
   "metadata": {},
   "source": [
    "# Count of Mining Footprints"
   ]
  },
  {
   "cell_type": "markdown",
   "metadata": {},
   "source": [
    "To count mining footprints for each region, I'll first create an intersection dataframe showing mine polygons as `True` or `False` for intersection with regional geometries."
   ]
  },
  {
   "cell_type": "code",
   "execution_count": 7,
   "metadata": {},
   "outputs": [],
   "source": [
    "for reg in regions.region:\n",
    "    geom = regions.query(\"region==@reg\").geometry.iloc[0]\n",
    "    fp[reg] = fp.intersects(geom)"
   ]
  },
  {
   "cell_type": "markdown",
   "metadata": {},
   "source": [
    "Now, I can sum up all of those mine polygons that evaluate as `True` for regional intersection. I'll attribute that count to the `region` DataFrame. \n",
    "* I will need to change this by category - actually this may be right but I'm not sure yet, need to better understand the code - look up geopandas functions."
   ]
  },
  {
   "cell_type": "code",
   "execution_count": 15,
   "metadata": {},
   "outputs": [
    {
     "name": "stdout",
     "output_type": "stream",
     "text": [
      "0         Aleutian Islands\n1                   Arctic\n2              Bristol Bay\n3                  Chignik\n4             Copper River\n5                   Kodiak\n6                 Kotzebue\n7                Kuskokwim\n8               Cook Inlet\n9             Norton Sound\n10    Prince William Sound\n11               Southeast\n12                   Yukon\nName: region, dtype: object\n"
     ]
    }
   ],
   "source": [
    "sasap_reg = regions.region.sort_index()\n",
    "print(sasap_reg)"
   ]
  },
  {
   "cell_type": "code",
   "execution_count": 21,
   "metadata": {},
   "outputs": [
    {
     "name": "stdout",
     "output_type": "stream",
     "text": [
      "111\n32\n25\n0\n205\n189\n0\n0\n1062\n106\n43\n725\n431\n"
     ]
    }
   ],
   "source": [
    "for reg in regions.region:\n",
    "    n_fishpass = fp[reg].sum()\n",
    "    regions.loc[regions.region==reg, 'n_fishpass'] = n_fishpass\n",
    "    print(n_fishpass)"
   ]
  },
  {
   "cell_type": "markdown",
   "metadata": {},
   "source": [
    "This appears to have created the number of fish passages per regions - although it's possible that it represents something else such as number of culverts, I think it is sites (so culverts)"
   ]
  },
  {
   "cell_type": "code",
   "execution_count": 22,
   "metadata": {
    "scrolled": true
   },
   "outputs": [
    {
     "data": {
      "image/png": "[encoded data removed]",
      "text/plain": [
       "<Figure size 864x864 with 1 Axes>"
      ]
     },
     "metadata": {},
     "output_type": "display_data"
    }
   ],
   "source": [
    "fig, ax = subplots(1,1,figsize=(12,12))\n",
    "ax = regions.plot(column='n_fishpass', cmap='Oranges', ax=ax, linewidth=0.4)\n",
    "ax.set_axis_off()\n",
    "foo = ax.axes.set_aspect('equal')"
   ]
  },
  {
   "cell_type": "code",
   "execution_count": 24,
   "metadata": {
    "scrolled": false,
    "collapsed": false
   },
   "outputs": [
    {
     "data": {
      "text/html": [
       "<div>\n",
       "<style scoped>\n",
       "    .dataframe tbody tr th:only-of-type {\n",
       "        vertical-align: middle;\n",
       "    }\n",
       "\n",
       "    .dataframe tbody tr th {\n",
       "        vertical-align: top;\n",
       "    }\n",
       "\n",
       "    .dataframe thead th {\n",
       "        text-align: right;\n",
       "    }\n",
       "</style>\n",
       "<table border=\"1\" class=\"dataframe\">\n",
       "  <thead>\n",
       "    <tr style=\"text-align: right;\">\n",
       "      <th></th>\n",
       "      <th>region_id</th>\n",
       "      <th>region</th>\n",
       "      <th>geometry</th>\n",
       "      <th>n_culverts</th>\n",
       "      <th>n_fishpass</th>\n",
       "    </tr>\n",
       "  </thead>\n",
       "  <tbody>\n",
       "    <tr>\n",
       "      <th>8</th>\n",
       "      <td>9</td>\n",
       "      <td>Cook Inlet</td>\n",
       "      <td>(POLYGON ((35214.97605528703 1002456.87086566,...</td>\n",
       "      <td>1062.0</td>\n",
       "      <td>1062.0</td>\n",
       "    </tr>\n",
       "    <tr>\n",
       "      <th>11</th>\n",
       "      <td>12</td>\n",
       "      <td>Southeast</td>\n",
       "      <td>(POLYGON ((1287776.763303712 744574.0859671872...</td>\n",
       "      <td>725.0</td>\n",
       "      <td>725.0</td>\n",
       "    </tr>\n",
       "    <tr>\n",
       "      <th>12</th>\n",
       "      <td>13</td>\n",
       "      <td>Yukon</td>\n",
       "      <td>POLYGON ((-375317.9778843221 1473997.623078777...</td>\n",
       "      <td>431.0</td>\n",
       "      <td>431.0</td>\n",
       "    </tr>\n",
       "    <tr>\n",
       "      <th>4</th>\n",
       "      <td>5</td>\n",
       "      <td>Copper River</td>\n",
       "      <td>POLYGON ((561012.0068005103 1148300.750064242,...</td>\n",
       "      <td>205.0</td>\n",
       "      <td>205.0</td>\n",
       "    </tr>\n",
       "    <tr>\n",
       "      <th>5</th>\n",
       "      <td>6</td>\n",
       "      <td>Kodiak</td>\n",
       "      <td>(POLYGON ((115112.5187827438 983292.9990368463...</td>\n",
       "      <td>189.0</td>\n",
       "      <td>189.0</td>\n",
       "    </tr>\n",
       "    <tr>\n",
       "      <th>0</th>\n",
       "      <td>1</td>\n",
       "      <td>Aleutian Islands</td>\n",
       "      <td>(POLYGON ((-1156665.959195634 420855.093106979...</td>\n",
       "      <td>111.0</td>\n",
       "      <td>111.0</td>\n",
       "    </tr>\n",
       "    <tr>\n",
       "      <th>9</th>\n",
       "      <td>10</td>\n",
       "      <td>Norton Sound</td>\n",
       "      <td>(POLYGON ((-848356.9600070229 1636692.01922057...</td>\n",
       "      <td>106.0</td>\n",
       "      <td>106.0</td>\n",
       "    </tr>\n",
       "    <tr>\n",
       "      <th>10</th>\n",
       "      <td>11</td>\n",
       "      <td>Prince William Sound</td>\n",
       "      <td>(POLYGON ((426007.0728565209 1087250.373112139...</td>\n",
       "      <td>43.0</td>\n",
       "      <td>43.0</td>\n",
       "    </tr>\n",
       "  </tbody>\n",
       "</table>\n",
       "</div>"
      ],
      "text/plain": [
       "<div>\n",
       "<style scoped>\n",
       "    .dataframe tbody tr th:only-of-type {\n",
       "        vertical-align: middle;\n",
       "    }\n",
       "\n",
       "    .dataframe tbody tr th {\n",
       "        vertical-align: top;\n",
       "    }\n",
       "\n",
       "    .dataframe thead th {\n",
       "        text-align: right;\n",
       "    }\n",
       "</style>\n",
       "<table border=\"1\" class=\"dataframe\">\n",
       "  <thead>\n",
       "    <tr style=\"text-align: right;\">\n",
       "      <th></th>\n",
       "      <th>region_id</th>\n",
       "      <th>region</th>\n",
       "      <th>geometry</th>\n",
       "      <th>n_culverts</th>\n",
       "      <th>n_fishpass</th>\n",
       "    </tr>\n",
       "  </thead>\n",
       "  <tbody>\n",
       "    <tr>\n",
       "      <th>8</th>\n",
       "      <td>9</td>\n",
       "      <td>Cook Inlet</td>\n",
       "      <td>(POLYGON ((35214.97605528703 1002456.87086566,...</td>\n",
       "      <td>1062.0</td>\n",
       "      <td>1062.0</td>\n",
       "    </tr>\n",
       "    <tr>\n",
       "      <th>11</th>\n",
       "      <td>12</td>\n",
       "      <td>Southeast</td>\n",
       "      <td>(POLYGON ((1287776.763303712 744574.0859671872...</td>\n",
       "      <td>725.0</td>\n",
       "      <td>725.0</td>\n",
       "    </tr>\n",
       "    <tr>\n",
       "      <th>12</th>\n",
       "      <td>13</td>\n",
       "      <td>Yukon</td>\n",
       "      <td>POLYGON ((-375317.9778843221 1473997.623078777...</td>\n",
       "      <td>431.0</td>\n",
       "      <td>431.0</td>\n",
       "    </tr>\n",
       "    <tr>\n",
       "      <th>4</th>\n",
       "      <td>5</td>\n",
       "      <td>Copper River</td>\n",
       "      <td>POLYGON ((561012.0068005103 1148300.750064242,...</td>\n",
       "      <td>205.0</td>\n",
       "      <td>205.0</td>\n",
       "    </tr>\n",
       "    <tr>\n",
       "      <th>5</th>\n",
       "      <td>6</td>\n",
       "      <td>Kodiak</td>\n",
       "      <td>(POLYGON ((115112.5187827438 983292.9990368463...</td>\n",
       "      <td>189.0</td>\n",
       "      <td>189.0</td>\n",
       "    </tr>\n",
       "    <tr>\n",
       "      <th>0</th>\n",
       "      <td>1</td>\n",
       "      <td>Aleutian Islands</td>\n",
       "      <td>(POLYGON ((-1156665.959195634 420855.093106979...</td>\n",
       "      <td>111.0</td>\n",
       "      <td>111.0</td>\n",
       "    </tr>\n",
       "    <tr>\n",
       "      <th>9</th>\n",
       "      <td>10</td>\n",
       "      <td>Norton Sound</td>\n",
       "      <td>(POLYGON ((-848356.9600070229 1636692.01922057...</td>\n",
       "      <td>106.0</td>\n",
       "      <td>106.0</td>\n",
       "    </tr>\n",
       "    <tr>\n",
       "      <th>10</th>\n",
       "      <td>11</td>\n",
       "      <td>Prince William Sound</td>\n",
       "      <td>(POLYGON ((426007.0728565209 1087250.373112139...</td>\n",
       "      <td>43.0</td>\n",
       "      <td>43.0</td>\n",
       "    </tr>\n",
       "  </tbody>\n",
       "</table>\n",
       "</div>"
      ]
     },
     "execution_count": 24,
     "metadata": {},
     "output_type": "execute_result"
    }
   ],
   "source": [
    "regions.sort_values(by='n_fishpass', ascending=False).head(8)\n",
    "# this is a parameter in sort_values of kind so this might be what you want to look into: https://pandas.pydata.org/pandas-docs/stable/generated/pandas.DataFrame.sort_values.html\n",
    "regions.sort_values(by='n_fishpass', ascending=False, kind=).head(8)\n",
    "\n",
    "\n"
   ]
  },
  {
   "cell_type": "code",
   "execution_count": null,
   "metadata": {},
   "outputs": [],
   "source": []
  },
  {
   "cell_type": "markdown",
   "metadata": {},
   "source": [
    "# Average Area of Mining Footprints"
   ]
  },
  {
   "cell_type": "markdown",
   "metadata": {},
   "source": [
    "I'll look at the `Shape_Area` attribute of those mining footprints we counted above to find the average area of footprints intersecting each region. Since I'm interested in the characteristics of the mining footprints, I won't clip mining area to regional boundaries."
   ]
  },
  {
   "cell_type": "code",
   "execution_count": 16,
   "metadata": {},
   "outputs": [],
   "source": [
    "for reg in regions.region:\n",
    "    mines_reg = mines[mines[reg]]\n",
    "    avg_m_area = mines_reg.Shape_Area.mean() * 1e-6\n",
    "    regions.loc[regions.region==reg, 'avg_m_area'] = avg_m_area"
   ]
  },
  {
   "cell_type": "markdown",
   "metadata": {},
   "source": [
    "Converting `NaN` values to 0 for those regions without any intersecting mines."
   ]
  },
  {
   "cell_type": "code",
   "execution_count": 17,
   "metadata": {},
   "outputs": [],
   "source": [
    "regions['avg_m_area'] = regions['avg_m_area'].fillna(0)"
   ]
  },
  {
   "cell_type": "code",
   "execution_count": 18,
   "metadata": {
    "scrolled": true
   },
   "outputs": [
    {
     "data": {
      "image/png": "[encoded data removed]",
      "text/plain": [
       "<Figure size 504x504 with 1 Axes>"
      ]
     },
     "metadata": {},
     "output_type": "display_data"
    }
   ],
   "source": [
    "fig, ax = subplots(1,1,figsize=(7,7))\n",
    "ax = regions.plot(column='avg_m_area', cmap='Blues', ax=ax, linewidth=0.4)\n",
    "ax.set_axis_off()\n",
    "foo = ax.axes.set_aspect('equal')"
   ]
  },
  {
   "cell_type": "markdown",
   "metadata": {},
   "source": [
    "# Area per Region and Density of Mining Footprints"
   ]
  },
  {
   "cell_type": "markdown",
   "metadata": {},
   "source": [
    "Now, I'm interested in mining data specific to each region:\n",
    "* Area of each region covered by mining footprints and \n",
    "* Density, defined as ($\\frac{mining\\,footprint\\,area}{regional\\,area}$).\n",
    "\n",
    "For these analyses, I'll have to union mining polygons and clip the resulting shape to regional boundaries. From there, I can evaluate the area of each region covered by mining activity."
   ]
  },
  {
   "cell_type": "code",
   "execution_count": 19,
   "metadata": {},
   "outputs": [],
   "source": [
    "for reg in regions.region:\n",
    "    mines_reg = mines[mines[reg]]\n",
    "    mines_union = mines_reg.unary_union\n",
    "    regions_union = regions.query(\"region==@reg\").unary_union\n",
    "    mines_reg_clip = mines_union.intersection(regions_union)\n",
    "    regions.loc[regions.region==reg, 'area_mines'] = mines_reg_clip.area * 1e-6"
   ]
  },
  {
   "cell_type": "markdown",
   "metadata": {},
   "source": [
    "Now, it's one more quick step to find density using the `area_mines` attribute from the previous analysis."
   ]
  },
  {
   "cell_type": "code",
   "execution_count": 20,
   "metadata": {},
   "outputs": [],
   "source": [
    "regions['density_mines'] = regions.area_mines/(regions.area * 1e-6)"
   ]
  },
  {
   "cell_type": "code",
   "execution_count": 21,
   "metadata": {
    "scrolled": true
   },
   "outputs": [
    {
     "data": {
      "text/html": [
       "<div>\n",
       "<style scoped>\n",
       "    .dataframe tbody tr th:only-of-type {\n",
       "        vertical-align: middle;\n",
       "    }\n",
       "\n",
       "    .dataframe tbody tr th {\n",
       "        vertical-align: top;\n",
       "    }\n",
       "\n",
       "    .dataframe thead th {\n",
       "        text-align: right;\n",
       "    }\n",
       "</style>\n",
       "<table border=\"1\" class=\"dataframe\">\n",
       "  <thead>\n",
       "    <tr style=\"text-align: right;\">\n",
       "      <th></th>\n",
       "      <th>region_id</th>\n",
       "      <th>region</th>\n",
       "      <th>geometry</th>\n",
       "      <th>n_mines</th>\n",
       "      <th>avg_m_area</th>\n",
       "      <th>area_mines</th>\n",
       "      <th>density_mines</th>\n",
       "    </tr>\n",
       "  </thead>\n",
       "  <tbody>\n",
       "    <tr>\n",
       "      <th>12</th>\n",
       "      <td>13</td>\n",
       "      <td>Yukon</td>\n",
       "      <td>POLYGON ((-375317.9778843221 1473997.623078777...</td>\n",
       "      <td>391.0</td>\n",
       "      <td>2.212924</td>\n",
       "      <td>864.999527</td>\n",
       "      <td>0.001003</td>\n",
       "    </tr>\n",
       "    <tr>\n",
       "      <th>9</th>\n",
       "      <td>10</td>\n",
       "      <td>Norton Sound</td>\n",
       "      <td>(POLYGON ((-848356.9600070229 1636692.01922057...</td>\n",
       "      <td>70.0</td>\n",
       "      <td>0.670258</td>\n",
       "      <td>45.939046</td>\n",
       "      <td>0.000687</td>\n",
       "    </tr>\n",
       "    <tr>\n",
       "      <th>8</th>\n",
       "      <td>9</td>\n",
       "      <td>Cook Inlet</td>\n",
       "      <td>(POLYGON ((35214.97605528703 1002456.87086566,...</td>\n",
       "      <td>24.0</td>\n",
       "      <td>1.804829</td>\n",
       "      <td>51.127322</td>\n",
       "      <td>0.000450</td>\n",
       "    </tr>\n",
       "    <tr>\n",
       "      <th>7</th>\n",
       "      <td>8</td>\n",
       "      <td>Kuskokwim</td>\n",
       "      <td>(POLYGON ((-1030125.203115781 1281198.22296843...</td>\n",
       "      <td>26.0</td>\n",
       "      <td>1.743793</td>\n",
       "      <td>45.338615</td>\n",
       "      <td>0.000276</td>\n",
       "    </tr>\n",
       "    <tr>\n",
       "      <th>6</th>\n",
       "      <td>7</td>\n",
       "      <td>Kotzebue</td>\n",
       "      <td>(POLYGON ((-678815.2871972915 1819518.97119244...</td>\n",
       "      <td>17.0</td>\n",
       "      <td>1.862390</td>\n",
       "      <td>26.074320</td>\n",
       "      <td>0.000199</td>\n",
       "    </tr>\n",
       "  </tbody>\n",
       "</table>\n",
       "</div>"
      ],
      "text/plain": [
       "<div>\n",
       "<style scoped>\n",
       "    .dataframe tbody tr th:only-of-type {\n",
       "        vertical-align: middle;\n",
       "    }\n",
       "\n",
       "    .dataframe tbody tr th {\n",
       "        vertical-align: top;\n",
       "    }\n",
       "\n",
       "    .dataframe thead th {\n",
       "        text-align: right;\n",
       "    }\n",
       "</style>\n",
       "<table border=\"1\" class=\"dataframe\">\n",
       "  <thead>\n",
       "    <tr style=\"text-align: right;\">\n",
       "      <th></th>\n",
       "      <th>region_id</th>\n",
       "      <th>region</th>\n",
       "      <th>geometry</th>\n",
       "      <th>n_mines</th>\n",
       "      <th>avg_m_area</th>\n",
       "      <th>area_mines</th>\n",
       "      <th>density_mines</th>\n",
       "    </tr>\n",
       "  </thead>\n",
       "  <tbody>\n",
       "    <tr>\n",
       "      <th>12</th>\n",
       "      <td>13</td>\n",
       "      <td>Yukon</td>\n",
       "      <td>POLYGON ((-375317.9778843221 1473997.623078777...</td>\n",
       "      <td>391.0</td>\n",
       "      <td>2.212924</td>\n",
       "      <td>864.999527</td>\n",
       "      <td>0.001003</td>\n",
       "    </tr>\n",
       "    <tr>\n",
       "      <th>9</th>\n",
       "      <td>10</td>\n",
       "      <td>Norton Sound</td>\n",
       "      <td>(POLYGON ((-848356.9600070229 1636692.01922057...</td>\n",
       "      <td>70.0</td>\n",
       "      <td>0.670258</td>\n",
       "      <td>45.939046</td>\n",
       "      <td>0.000687</td>\n",
       "    </tr>\n",
       "    <tr>\n",
       "      <th>8</th>\n",
       "      <td>9</td>\n",
       "      <td>Cook Inlet</td>\n",
       "      <td>(POLYGON ((35214.97605528703 1002456.87086566,...</td>\n",
       "      <td>24.0</td>\n",
       "      <td>1.804829</td>\n",
       "      <td>51.127322</td>\n",
       "      <td>0.000450</td>\n",
       "    </tr>\n",
       "    <tr>\n",
       "      <th>7</th>\n",
       "      <td>8</td>\n",
       "      <td>Kuskokwim</td>\n",
       "      <td>(POLYGON ((-1030125.203115781 1281198.22296843...</td>\n",
       "      <td>26.0</td>\n",
       "      <td>1.743793</td>\n",
       "      <td>45.338615</td>\n",
       "      <td>0.000276</td>\n",
       "    </tr>\n",
       "    <tr>\n",
       "      <th>6</th>\n",
       "      <td>7</td>\n",
       "      <td>Kotzebue</td>\n",
       "      <td>(POLYGON ((-678815.2871972915 1819518.97119244...</td>\n",
       "      <td>17.0</td>\n",
       "      <td>1.862390</td>\n",
       "      <td>26.074320</td>\n",
       "      <td>0.000199</td>\n",
       "    </tr>\n",
       "  </tbody>\n",
       "</table>\n",
       "</div>"
      ]
     },
     "execution_count": 21,
     "metadata": {},
     "output_type": "execute_result"
    }
   ],
   "source": [
    "regions.sort_values(by='density_mines', ascending = False).head()"
   ]
  },
  {
   "cell_type": "markdown",
   "metadata": {},
   "source": [
    "Let's map this out. It looks like even though the Yukon region is very large, it also has the highest density of mining impact areas."
   ]
  },
  {
   "cell_type": "code",
   "execution_count": 22,
   "metadata": {
    "scrolled": true
   },
   "outputs": [
    {
     "data": {
      "image/png": "[encoded data removed]",
      "text/plain": [
       "<Figure size 504x504 with 1 Axes>"
      ]
     },
     "metadata": {},
     "output_type": "display_data"
    }
   ],
   "source": [
    "fig, ax = subplots(1,1,figsize=(7,7))\n",
    "ax = regions.plot(column='density_mines', cmap='Greens', ax=ax, linewidth=0.4)\n",
    "ax.set_axis_off()\n",
    "foo = ax.axes.set_aspect('equal')"
   ]
  },
  {
   "cell_type": "markdown",
   "metadata": {},
   "source": [
    "Export the results to shapefile and csv formats. I need to drop the \"geometry\" field in order to export to csv."
   ]
  },
  {
   "cell_type": "code",
   "execution_count": 23,
   "metadata": {},
   "outputs": [],
   "source": [
    "regions.to_file(outfp('Regions_with_Mines.shp'))\n",
    "regions.drop('geometry', axis='columns').to_csv(outfp('Regions_with_Mines.csv'))"
   ]
  },
  {
   "cell_type": "markdown",
   "metadata": {},
   "source": [
    "# Watersheds"
   ]
  },
  {
   "cell_type": "markdown",
   "metadata": {},
   "source": [
    "I'm going to run the same analysis as above, but for watersheds. To reiterate, these attributes are:\n",
    "* Number of mining footprints (mining impact areas) intersecting each watershed.\n",
    "* Average area of those mining footprints.\n",
    "* Area (km<sup>2</sup>) impacted by mining within watershed boundaries (area clipped to regional or watershed boundaries).\n",
    "* Density of mining areas defined as ($\\frac{mining\\,footprint\\,area}{watershed\\,area}$)."
   ]
  },
  {
   "cell_type": "markdown",
   "metadata": {},
   "source": [
    "First, I'll import the watersheds shapefile and convert to the Alaska Albers projection."
   ]
  },
  {
   "cell_type": "code",
   "execution_count": 24,
   "metadata": {},
   "outputs": [],
   "source": [
    "watersheds_fp = \"/Users/datateam/Desktop/SASAP/HUC8_rebuild/output/sasap_watersheds_gapfix.shp\"\n",
    "watersheds = gpd.read_file(watersheds_fp).to_crs(epsg=3338)"
   ]
  },
  {
   "cell_type": "markdown",
   "metadata": {},
   "source": [
    "Create the intersection DataFrame."
   ]
  },
  {
   "cell_type": "code",
   "execution_count": 25,
   "metadata": {},
   "outputs": [],
   "source": [
    "for wat in watersheds.id_numeric:\n",
    "    geom = watersheds.query(\"id_numeric==@wat\").geometry.iloc[0]\n",
    "    mines[wat] = mines.intersects(geom)"
   ]
  },
  {
   "cell_type": "markdown",
   "metadata": {},
   "source": [
    "Find the number of mining footprints (impact areas) per watershed."
   ]
  },
  {
   "cell_type": "code",
   "execution_count": 26,
   "metadata": {},
   "outputs": [],
   "source": [
    "for wat in watersheds.id_numeric:\n",
    "    n_mines = mines[wat].sum()\n",
    "    watersheds.loc[watersheds.id_numeric==wat, 'n_mines'] = n_mines"
   ]
  },
  {
   "cell_type": "markdown",
   "metadata": {},
   "source": [
    "Map the data. I'll decrease the line width on region borders a bit so that we can visualize this better."
   ]
  },
  {
   "cell_type": "code",
   "execution_count": 27,
   "metadata": {
    "scrolled": false
   },
   "outputs": [
    {
     "data": {
      "image/png": "[encoded data removed]",
      "text/plain": [
       "<Figure size 504x504 with 1 Axes>"
      ]
     },
     "metadata": {},
     "output_type": "display_data"
    }
   ],
   "source": [
    "fig, ax = subplots(1,1,figsize=(7,7))\n",
    "ax = watersheds.plot(column='n_mines', cmap='Blues', ax=ax, linewidth=0.2)\n",
    "ax.set_axis_off()\n",
    "foo = ax.axes.set_aspect('equal')"
   ]
  },
  {
   "cell_type": "markdown",
   "metadata": {},
   "source": [
    "Find the mean area of mining footprints intersecting each watershed."
   ]
  },
  {
   "cell_type": "code",
   "execution_count": 28,
   "metadata": {},
   "outputs": [],
   "source": [
    "for wat in watersheds.id_numeric:\n",
    "    mines_wat = mines[mines[wat]]\n",
    "    avg_m_area = mines_wat.Shape_Area.mean() * 1e-6\n",
    "    watersheds.loc[watersheds.id_numeric==wat, 'avg_m_area'] = avg_m_area"
   ]
  },
  {
   "cell_type": "code",
   "execution_count": 29,
   "metadata": {},
   "outputs": [],
   "source": [
    "watersheds.avg_m_area = watersheds.avg_m_area.fillna(0)"
   ]
  },
  {
   "cell_type": "markdown",
   "metadata": {},
   "source": [
    "Find the area of mining footprints within watershed boundaires, then find the density = ($\\frac{mining\\,footprint\\,area}{watershed\\,area}$)."
   ]
  },
  {
   "cell_type": "code",
   "execution_count": 30,
   "metadata": {},
   "outputs": [],
   "source": [
    "for wat in watersheds.id_numeric:\n",
    "    mines_wat = mines[mines[wat]]\n",
    "    mines_union = mines_wat.unary_union\n",
    "    watersheds_union = watersheds.query(\"id_numeric==@wat\").unary_union\n",
    "    mines_reg_clip = mines_union.intersection(watersheds_union)\n",
    "    watersheds.loc[watersheds.id_numeric==wat, 'area_mines'] = mines_reg_clip.area * 1e-6"
   ]
  },
  {
   "cell_type": "code",
   "execution_count": 31,
   "metadata": {
    "scrolled": false
   },
   "outputs": [],
   "source": [
    "watersheds['density_mines'] = watersheds.area_mines/(watersheds.area * 1e-6)"
   ]
  },
  {
   "cell_type": "markdown",
   "metadata": {},
   "source": [
    "Finally, I'll export the results to shapefile and csv formats."
   ]
  },
  {
   "cell_type": "code",
   "execution_count": 32,
   "metadata": {
    "scrolled": true
   },
   "outputs": [],
   "source": [
    "watersheds.to_file(outfp('Watersheds_with_Mines.shp'))\n",
    "watersheds.drop('geometry', axis='columns').to_csv(outfp('Watersheds_with_Mines.csv'))"
   ]
  },
  {
   "cell_type": "code",
   "execution_count": null,
   "metadata": {},
   "outputs": [],
   "source": []
  }
 ],
 "metadata": {
  "kernelspec": {
   "display_name": "Python 2",
   "language": "python",
   "name": "python2"
  },
  "language_info": {
   "codemirror_mode": {
    "name": "ipython",
    "version": 2
   },
   "file_extension": ".py",
   "mimetype": "text/x-python",
   "name": "python",
   "nbconvert_exporter": "python",
   "pygments_lexer": "ipython2",
   "version": "2.7.12"
  }
 },
 "nbformat": 4,
 "nbformat_minor": 2
}
