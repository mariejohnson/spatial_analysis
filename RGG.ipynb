{
 "cells": [
  {
   "cell_type": "code",
   "execution_count": 1,
   "metadata": {},
   "outputs": [
    {
     "name": "stdout",
     "output_type": "stream",
     "text": [
      "Populating the interactive namespace from numpy and matplotlib\n"
     ]
    }
   ],
   "source": [
    "%pylab inline\n",
    "import geopandas as gpd\n",
    "import pandas as pd\n",
    "import os\n",
    "# !pip install mplleaflet\n",
    "import mplleaflet\n"
   ]
  },
  {
   "cell_type": "code",
   "execution_count": 2,
   "metadata": {},
   "outputs": [],
   "source": [
    "fish_pass = 'ADFG/ADFG_fish_passage.shp'\n",
    "fp = gpd.read_file(fish_pass)\n",
    "regs = 'HUC8_rebuild/output/sasap_regions.shp'\n",
    "regions = gpd.read_file(regs)"
   ]
  },
  {
   "cell_type": "code",
   "execution_count": 3,
   "metadata": {},
   "outputs": [],
   "source": [
    "fp = fp.to_crs(epsg=3338)\n",
    "regions = regions.to_crs(epsg=3338)"
   ]
  },
  {
   "cell_type": "markdown",
   "metadata": {},
   "source": [
    "Each FP_color represents a fish passage impact rating (listed under RGGRating). I want to get eventually get counts of FP_color per region from regions gdf. Then map these in some way (or multiple ways)."
   ]
  },
  {
   "cell_type": "code",
   "execution_count": 4,
   "metadata": {},
   "outputs": [],
   "source": [
    "fp['FP_red'] = fp['RGGRating'] == 'Red'\n",
    "fp['FP_green'] = fp['RGGRating'] == 'Green'\n",
    "fp['FP_gray'] = fp['RGGRating'] == 'Gray'\n",
    "fp['FP_black'] = fp['RGGRating'] == 'Black'"
   ]
  },
  {
   "cell_type": "markdown",
   "metadata": {},
   "source": [
    "Created a new gdf *RGG*"
   ]
  },
  {
   "cell_type": "code",
   "execution_count": 5,
   "metadata": {},
   "outputs": [
    {
     "data": {
      "text/html": [
       "<div>\n",
       "<style scoped>\n",
       "    .dataframe tbody tr th:only-of-type {\n",
       "        vertical-align: middle;\n",
       "    }\n",
       "\n",
       "    .dataframe tbody tr th {\n",
       "        vertical-align: top;\n",
       "    }\n",
       "\n",
       "    .dataframe thead th {\n",
       "        text-align: right;\n",
       "    }\n",
       "</style>\n",
       "<table border=\"1\" class=\"dataframe\">\n",
       "  <thead>\n",
       "    <tr style=\"text-align: right;\">\n",
       "      <th></th>\n",
       "      <th>geometry</th>\n",
       "      <th>FP_red</th>\n",
       "      <th>FP_green</th>\n",
       "      <th>FP_gray</th>\n",
       "      <th>FP_black</th>\n",
       "    </tr>\n",
       "  </thead>\n",
       "  <tbody>\n",
       "    <tr>\n",
       "      <th>0</th>\n",
       "      <td>POINT (83811.68299580242 819266.9230174191)</td>\n",
       "      <td>True</td>\n",
       "      <td>False</td>\n",
       "      <td>False</td>\n",
       "      <td>False</td>\n",
       "    </tr>\n",
       "    <tr>\n",
       "      <th>1</th>\n",
       "      <td>POINT (213872.4420121688 2252881.915418045)</td>\n",
       "      <td>False</td>\n",
       "      <td>True</td>\n",
       "      <td>False</td>\n",
       "      <td>False</td>\n",
       "    </tr>\n",
       "    <tr>\n",
       "      <th>2</th>\n",
       "      <td>POINT (213536.4334304724 2250613.46924101)</td>\n",
       "      <td>True</td>\n",
       "      <td>False</td>\n",
       "      <td>False</td>\n",
       "      <td>False</td>\n",
       "    </tr>\n",
       "    <tr>\n",
       "      <th>3</th>\n",
       "      <td>POINT (207221.6008933302 2235195.704555049)</td>\n",
       "      <td>False</td>\n",
       "      <td>True</td>\n",
       "      <td>False</td>\n",
       "      <td>False</td>\n",
       "    </tr>\n",
       "    <tr>\n",
       "      <th>4</th>\n",
       "      <td>POINT (210232.879883608 2156742.824674348)</td>\n",
       "      <td>True</td>\n",
       "      <td>False</td>\n",
       "      <td>False</td>\n",
       "      <td>False</td>\n",
       "    </tr>\n",
       "  </tbody>\n",
       "</table>\n",
       "</div>"
      ],
      "text/plain": [
       "                                      geometry  FP_red  FP_green  FP_gray  \\\n",
       "0  POINT (83811.68299580242 819266.9230174191)    True     False    False   \n",
       "1  POINT (213872.4420121688 2252881.915418045)   False      True    False   \n",
       "2   POINT (213536.4334304724 2250613.46924101)    True     False    False   \n",
       "3  POINT (207221.6008933302 2235195.704555049)   False      True    False   \n",
       "4   POINT (210232.879883608 2156742.824674348)    True     False    False   \n",
       "\n",
       "   FP_black  \n",
       "0     False  \n",
       "1     False  \n",
       "2     False  \n",
       "3     False  \n",
       "4     False  "
      ]
     },
     "execution_count": 5,
     "metadata": {},
     "output_type": "execute_result"
    }
   ],
   "source": [
    "RGG = fp[['geometry','FP_red', 'FP_green', 'FP_gray', 'FP_black']]\n",
    "RGG.head()"
   ]
  },
  {
   "cell_type": "markdown",
   "metadata": {},
   "source": [
    "Find points within each region"
   ]
  },
  {
   "cell_type": "code",
   "execution_count": null,
   "metadata": {},
   "outputs": [],
   "source": [
    "for reg in regions.region: \n",
    "    sub_gdf = regions.query(\"region==@reg\") \n",
    "    geom_ser = sub_gdf.geometry # here we are getting a series of geometries (geometry already part of gdf)\n",
    "    geom = geom_ser.iloc[0] # here is our geometry object, iloc based on interger location based on indexing for selection by position\n",
    "    RGG[reg] = RGG.within(geom)"
   ]
  },
  {
   "cell_type": "code",
   "execution_count": 7,
   "metadata": {},
   "outputs": [
    {
     "data": {
      "text/html": [
       "<div>\n",
       "<style scoped>\n",
       "    .dataframe tbody tr th:only-of-type {\n",
       "        vertical-align: middle;\n",
       "    }\n",
       "\n",
       "    .dataframe tbody tr th {\n",
       "        vertical-align: top;\n",
       "    }\n",
       "\n",
       "    .dataframe thead th {\n",
       "        text-align: right;\n",
       "    }\n",
       "</style>\n",
       "<table border=\"1\" class=\"dataframe\">\n",
       "  <thead>\n",
       "    <tr style=\"text-align: right;\">\n",
       "      <th></th>\n",
       "      <th>geometry</th>\n",
       "      <th>FP_red</th>\n",
       "      <th>FP_green</th>\n",
       "      <th>FP_gray</th>\n",
       "      <th>FP_black</th>\n",
       "      <th>Aleutian Islands</th>\n",
       "      <th>Arctic</th>\n",
       "      <th>Bristol Bay</th>\n",
       "      <th>Chignik</th>\n",
       "      <th>Copper River</th>\n",
       "      <th>Kodiak</th>\n",
       "      <th>Kotzebue</th>\n",
       "      <th>Kuskokwim</th>\n",
       "      <th>Cook Inlet</th>\n",
       "      <th>Norton Sound</th>\n",
       "      <th>Prince William Sound</th>\n",
       "      <th>Southeast</th>\n",
       "      <th>Yukon</th>\n",
       "    </tr>\n",
       "  </thead>\n",
       "  <tbody>\n",
       "    <tr>\n",
       "      <th>0</th>\n",
       "      <td>POINT (83811.68299580242 819266.9230174191)</td>\n",
       "      <td>True</td>\n",
       "      <td>False</td>\n",
       "      <td>False</td>\n",
       "      <td>False</td>\n",
       "      <td>False</td>\n",
       "      <td>False</td>\n",
       "      <td>False</td>\n",
       "      <td>False</td>\n",
       "      <td>False</td>\n",
       "      <td>True</td>\n",
       "      <td>False</td>\n",
       "      <td>False</td>\n",
       "      <td>False</td>\n",
       "      <td>False</td>\n",
       "      <td>False</td>\n",
       "      <td>False</td>\n",
       "      <td>False</td>\n",
       "    </tr>\n",
       "    <tr>\n",
       "      <th>1</th>\n",
       "      <td>POINT (213872.4420121688 2252881.915418045)</td>\n",
       "      <td>False</td>\n",
       "      <td>True</td>\n",
       "      <td>False</td>\n",
       "      <td>False</td>\n",
       "      <td>False</td>\n",
       "      <td>True</td>\n",
       "      <td>False</td>\n",
       "      <td>False</td>\n",
       "      <td>False</td>\n",
       "      <td>False</td>\n",
       "      <td>False</td>\n",
       "      <td>False</td>\n",
       "      <td>False</td>\n",
       "      <td>False</td>\n",
       "      <td>False</td>\n",
       "      <td>False</td>\n",
       "      <td>False</td>\n",
       "    </tr>\n",
       "    <tr>\n",
       "      <th>2</th>\n",
       "      <td>POINT (213536.4334304724 2250613.46924101)</td>\n",
       "      <td>True</td>\n",
       "      <td>False</td>\n",
       "      <td>False</td>\n",
       "      <td>False</td>\n",
       "      <td>False</td>\n",
       "      <td>True</td>\n",
       "      <td>False</td>\n",
       "      <td>False</td>\n",
       "      <td>False</td>\n",
       "      <td>False</td>\n",
       "      <td>False</td>\n",
       "      <td>False</td>\n",
       "      <td>False</td>\n",
       "      <td>False</td>\n",
       "      <td>False</td>\n",
       "      <td>False</td>\n",
       "      <td>False</td>\n",
       "    </tr>\n",
       "    <tr>\n",
       "      <th>3</th>\n",
       "      <td>POINT (207221.6008933302 2235195.704555049)</td>\n",
       "      <td>False</td>\n",
       "      <td>True</td>\n",
       "      <td>False</td>\n",
       "      <td>False</td>\n",
       "      <td>False</td>\n",
       "      <td>True</td>\n",
       "      <td>False</td>\n",
       "      <td>False</td>\n",
       "      <td>False</td>\n",
       "      <td>False</td>\n",
       "      <td>False</td>\n",
       "      <td>False</td>\n",
       "      <td>False</td>\n",
       "      <td>False</td>\n",
       "      <td>False</td>\n",
       "      <td>False</td>\n",
       "      <td>False</td>\n",
       "    </tr>\n",
       "    <tr>\n",
       "      <th>4</th>\n",
       "      <td>POINT (210232.879883608 2156742.824674348)</td>\n",
       "      <td>True</td>\n",
       "      <td>False</td>\n",
       "      <td>False</td>\n",
       "      <td>False</td>\n",
       "      <td>False</td>\n",
       "      <td>True</td>\n",
       "      <td>False</td>\n",
       "      <td>False</td>\n",
       "      <td>False</td>\n",
       "      <td>False</td>\n",
       "      <td>False</td>\n",
       "      <td>False</td>\n",
       "      <td>False</td>\n",
       "      <td>False</td>\n",
       "      <td>False</td>\n",
       "      <td>False</td>\n",
       "      <td>False</td>\n",
       "    </tr>\n",
       "  </tbody>\n",
       "</table>\n",
       "</div>"
      ],
      "text/plain": [
       "                                      geometry  FP_red  FP_green  FP_gray  \\\n",
       "0  POINT (83811.68299580242 819266.9230174191)    True     False    False   \n",
       "1  POINT (213872.4420121688 2252881.915418045)   False      True    False   \n",
       "2   POINT (213536.4334304724 2250613.46924101)    True     False    False   \n",
       "3  POINT (207221.6008933302 2235195.704555049)   False      True    False   \n",
       "4   POINT (210232.879883608 2156742.824674348)    True     False    False   \n",
       "\n",
       "   FP_black  Aleutian Islands  Arctic  Bristol Bay  Chignik  Copper River  \\\n",
       "0     False             False   False        False    False         False   \n",
       "1     False             False    True        False    False         False   \n",
       "2     False             False    True        False    False         False   \n",
       "3     False             False    True        False    False         False   \n",
       "4     False             False    True        False    False         False   \n",
       "\n",
       "   Kodiak  Kotzebue  Kuskokwim  Cook Inlet  Norton Sound  \\\n",
       "0    True     False      False       False         False   \n",
       "1   False     False      False       False         False   \n",
       "2   False     False      False       False         False   \n",
       "3   False     False      False       False         False   \n",
       "4   False     False      False       False         False   \n",
       "\n",
       "   Prince William Sound  Southeast  Yukon  \n",
       "0                 False      False  False  \n",
       "1                 False      False  False  \n",
       "2                 False      False  False  \n",
       "3                 False      False  False  \n",
       "4                 False      False  False  "
      ]
     },
     "execution_count": 7,
     "metadata": {},
     "output_type": "execute_result"
    }
   ],
   "source": [
    "RGG.head()"
   ]
  },
  {
   "cell_type": "markdown",
   "metadata": {},
   "source": [
    "I want to now get counts of each impact (colors) per region"
   ]
  },
  {
   "cell_type": "code",
   "execution_count": 11,
   "metadata": {},
   "outputs": [
    {
     "name": "stderr",
     "output_type": "stream",
     "text": [
      "/usr/local/lib/python2.7/site-packages/ipykernel_launcher.py:3: SettingWithCopyWarning: \n",
      "A value is trying to be set on a copy of a slice from a DataFrame.\n",
      "Try using .loc[row_indexer,col_indexer] = value instead\n",
      "\n",
      "See the caveats in the documentation: http://pandas.pydata.org/pandas-docs/stable/indexing.html#indexing-view-versus-copy\n",
      "  This is separate from the ipykernel package so we can avoid doing imports until\n"
     ]
    }
   ],
   "source": [
    "# RGG has the impact for each geometry, does it have the geometry object, I imagine it does I just don't see that?\n",
    "RGG['Red_Kodiak'] = np.where((RGG['FP_red'] == True) & (RGG['Kodiak'] == True), True, False)"
   ]
  },
  {
   "cell_type": "code",
   "execution_count": 12,
   "metadata": {},
   "outputs": [
    {
     "data": {
      "text/plain": [
       "0     True\n",
       "1    False\n",
       "2    False\n",
       "3    False\n",
       "4    False\n",
       "Name: Red_Kodiak, dtype: bool"
      ]
     },
     "execution_count": 12,
     "metadata": {},
     "output_type": "execute_result"
    }
   ],
   "source": [
    "RGG['Red_Kodiak'].head()"
   ]
  },
  {
   "cell_type": "code",
   "execution_count": 13,
   "metadata": {},
   "outputs": [
    {
     "data": {
      "text/plain": [
       "67"
      ]
     },
     "execution_count": 13,
     "metadata": {},
     "output_type": "execute_result"
    }
   ],
   "source": [
    "RGG['Red_Kodiak'].sum()"
   ]
  },
  {
   "cell_type": "markdown",
   "metadata": {},
   "source": [
    "I could continue to do this manually for each color and region but that would be a pain and inefficient. "
   ]
  },
  {
   "cell_type": "code",
   "execution_count": null,
   "metadata": {},
   "outputs": [],
   "source": [
    "# may need to leave RGG as a series? \n",
    "# maybe I need to iterate over multiple columns?\n",
    "for row, col in RGG.iterrows(): # maybe categorize these by geometry within this gdf? then move onto regions\n",
    "    FP_red, FP_green, FP_black, FP_gray = col\n",
    "    for r, c in # there are 13? regions seems like a lot to type"
   ]
  }
 ],
 "metadata": {
  "kernelspec": {
   "display_name": "Python 2",
   "language": "python",
   "name": "python2"
  },
  "language_info": {
   "codemirror_mode": {
    "name": "ipython",
    "version": 2
   },
   "file_extension": ".py",
   "mimetype": "text/x-python",
   "name": "python",
   "nbconvert_exporter": "python",
   "pygments_lexer": "ipython2",
   "version": "2.7.15"
  }
 },
 "nbformat": 4,
 "nbformat_minor": 2
}
